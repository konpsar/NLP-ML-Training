{
 "cells": [
  {
   "cell_type": "code",
   "execution_count": 30,
   "metadata": {},
   "outputs": [],
   "source": [
    "import tensorflow as tf\n",
    "from tensorflow import keras\n",
    "from tensorflow.keras.preprocessing.text import Tokenizer\n",
    "from tensorflow.keras.preprocessing.sequence import pad_sequences\n"
   ]
  },
  {
   "cell_type": "code",
   "execution_count": 12,
   "metadata": {},
   "outputs": [
    {
     "name": "stdout",
     "output_type": "stream",
     "text": [
      "{'it': 1, 'is': 2, 'a': 3, 'sunny': 4, 'day': 5}\n"
     ]
    }
   ],
   "source": [
    "## Example sentences to tokenize\n",
    "example_sent0 = [\n",
    "    'It is a sunny day',\n",
    "]\n",
    "\n",
    "tokenizer = Tokenizer(num_words=15)\n",
    "tokenizer.fit_on_texts(example_sent0)\n",
    "word_index = tokenizer.word_index\n",
    "print(word_index)"
   ]
  },
  {
   "cell_type": "code",
   "execution_count": 23,
   "metadata": {},
   "outputs": [
    {
     "name": "stdout",
     "output_type": "stream",
     "text": [
      "{'<oov>': 1, 'it': 2, 'a': 3, 'day': 4, 'is': 5, 'sunny': 6, \"isn't\": 7, 'cloudy': 8}\n"
     ]
    }
   ],
   "source": [
    "## Second Example with more sentences to tokenize\n",
    "example_sent1 = [\n",
    "    'It is a sunny day',\n",
    "    'It isn\\'t a sunny day',\n",
    "    'It is a cloudy day'\n",
    "]\n",
    "\n",
    "tokenizer = Tokenizer(num_words=15)\n",
    "tokenizer.fit_on_texts(example_sent1)\n",
    "word_index = tokenizer.word_index\n",
    "print(word_index)"
   ]
  },
  {
   "cell_type": "markdown",
   "metadata": {},
   "source": [
    "Create sequences"
   ]
  },
  {
   "cell_type": "code",
   "execution_count": 25,
   "metadata": {},
   "outputs": [
    {
     "name": "stdout",
     "output_type": "stream",
     "text": [
      "Word index -->{'<oov>': 1, 'it': 2, 'a': 3, 'day': 4, 'is': 5, 'sunny': 6, \"isn't\": 7, 'cloudy': 8}\n",
      "Sequence of words -->[[2, 5, 3, 6, 4], [2, 7, 3, 6, 4], [2, 5, 3, 8, 1]]\n",
      "['It is a sunny day', \"It isn't a sunny day\", 'It is a cloudy dayddd']\n",
      "[[2, 5, 3, 6, 4], [2, 7, 3, 6, 4], [2, 5, 3, 8, 1]]\n"
     ]
    }
   ],
   "source": [
    "\n",
    "example_sent2 = [\n",
    "    'It is a sunny day',\n",
    "    'It isn\\'t a sunny day',\n",
    "    'It is a cloudy dayddd'\n",
    "]\n",
    "\n",
    "sequences = tokenizer.texts_to_sequences(example_sent2)\n",
    "print(f'Word index -->{word_index}')\n",
    "print(f'Sequence of words -->{sequences}')\n",
    "\n",
    "print(example_sent2)\n",
    "print(sequences)"
   ]
  },
  {
   "cell_type": "markdown",
   "metadata": {},
   "source": [
    "What about words not in the words' dictionary? (Use oov_token -out of vocab token)"
   ]
  },
  {
   "cell_type": "code",
   "execution_count": 29,
   "metadata": {},
   "outputs": [
    {
     "name": "stdout",
     "output_type": "stream",
     "text": [
      "{'<oov>': 1, 'it': 2, 'a': 3, 'day': 4, 'is': 5, 'sunny': 6, \"isn't\": 7, 'cloudy': 8}\n",
      "Word index -->{'<oov>': 1, 'it': 2, 'a': 3, 'day': 4, 'is': 5, 'sunny': 6, \"isn't\": 7, 'cloudy': 8}\n",
      "Sequence of words -->[[2, 5, 3, 6, 4], [2, 7, 3, 6, 4], [2, 5, 3, 8, 4], [2, 5, 1, 1, 1]]\n",
      "['It is a sunny day', \"It isn't a sunny day\", 'It is a cloudy day', 'It is an unknown word.']\n",
      "[[2, 5, 3, 6, 4], [2, 7, 3, 6, 4], [2, 5, 3, 8, 4], [2, 5, 1, 1, 1]]\n"
     ]
    }
   ],
   "source": [
    "example_sent3 = [\n",
    "    'It is a sunny day',\n",
    "    'It isn\\'t a sunny day',\n",
    "    'It is a cloudy day'\n",
    "]\n",
    "tokenizer = Tokenizer(num_words=15, oov_token=\"<oov>\")\n",
    "tokenizer.fit_on_texts(example_sent3)\n",
    "word_index = tokenizer.word_index\n",
    "print(word_index)\n",
    "example_sent3.append(\"It is an unknown word.\")\n",
    "\n",
    "\n",
    "sequences = tokenizer.texts_to_sequences(example_sent3)\n",
    "print(f'Word index -->{word_index}')\n",
    "print(f'Sequence of words -->{sequences}')\n",
    "\n",
    "print(example_sent3)\n",
    "print(sequences)\n"
   ]
  },
  {
   "cell_type": "markdown",
   "metadata": {},
   "source": [
    "Padding sequences"
   ]
  },
  {
   "cell_type": "code",
   "execution_count": 35,
   "metadata": {},
   "outputs": [
    {
     "name": "stdout",
     "output_type": "stream",
     "text": [
      "{'<oov>': 1, 'a': 2, 'day': 3, 'it': 4, 'sunny': 5, 'is': 6, \"isn't\": 7, 'cloudy': 8, 'rains': 9}\n",
      "Word index -->{'<oov>': 1, 'a': 2, 'day': 3, 'it': 4, 'sunny': 5, 'is': 6, \"isn't\": 7, 'cloudy': 8, 'rains': 9}\n",
      "Sequence of words -->[[4, 6, 2, 5, 3], [4, 7, 2, 5, 3], [4, 6, 2, 8, 3], [4, 9], [2, 5, 3, 7, 2, 8, 3], [4, 6, 1, 1, 1]]\n",
      "['It is a sunny day', \"It isn't a sunny day\", 'It is a cloudy day', 'It rains.', \"A sunny day isn't a cloudy day\", 'It is an unknown word.']\n",
      "[[4, 6, 2, 5, 3], [4, 7, 2, 5, 3], [4, 6, 2, 8, 3], [4, 9], [2, 5, 3, 7, 2, 8, 3], [4, 6, 1, 1, 1]]\n",
      "[[0 0 4 6 2 5 3]\n",
      " [0 0 4 7 2 5 3]\n",
      " [0 0 4 6 2 8 3]\n",
      " [0 0 0 0 0 4 9]\n",
      " [2 5 3 7 2 8 3]\n",
      " [0 0 4 6 1 1 1]]\n"
     ]
    }
   ],
   "source": [
    "example_sent5 = [\n",
    "    'It is a sunny day',\n",
    "    'It isn\\'t a sunny day',\n",
    "    'It is a cloudy day',\n",
    "    'It rains.',\n",
    "    'A sunny day isn\\'t a cloudy day'\n",
    "]\n",
    "tokenizer = Tokenizer(num_words=100, oov_token=\"<oov>\")\n",
    "tokenizer.fit_on_texts(example_sent5)\n",
    "word_index = tokenizer.word_index\n",
    "print(word_index)\n",
    "example_sent5.append(\"It is an unknown word.\")\n",
    "\n",
    "\n",
    "sequences = tokenizer.texts_to_sequences(example_sent5)\n",
    "padded_seqs = pad_sequences(sequences)\n",
    "print(f'Word index -->{word_index}')\n",
    "print(f'Sequence of words -->{sequences}')\n",
    "\n",
    "print(example_sent5)\n",
    "print(sequences)\n",
    "print(padded_seqs)\n"
   ]
  },
  {
   "cell_type": "markdown",
   "metadata": {},
   "source": [
    "Customized padding"
   ]
  },
  {
   "cell_type": "code",
   "execution_count": 41,
   "metadata": {},
   "outputs": [
    {
     "name": "stdout",
     "output_type": "stream",
     "text": [
      "[[4 6 2 5 3 0]\n",
      " [4 7 2 5 3 0]\n",
      " [4 6 2 8 3 0]\n",
      " [4 9 0 0 0 0]\n",
      " [2 5 3 7 2 8]\n",
      " [4 6 1 1 1 0]]\n"
     ]
    }
   ],
   "source": [
    "padded_seqs = pad_sequences(sequences,\n",
    "                           padding=\"post\", \n",
    "                           maxlen=6,\n",
    "                           truncating=\"post\")\n",
    "print(padded_seqs)"
   ]
  }
 ],
 "metadata": {
  "kernelspec": {
   "display_name": "Python 3",
   "language": "python",
   "name": "python3"
  },
  "language_info": {
   "codemirror_mode": {
    "name": "ipython",
    "version": 3
   },
   "file_extension": ".py",
   "mimetype": "text/x-python",
   "name": "python",
   "nbconvert_exporter": "python",
   "pygments_lexer": "ipython3",
   "version": "3.8.10"
  }
 },
 "nbformat": 4,
 "nbformat_minor": 2
}
